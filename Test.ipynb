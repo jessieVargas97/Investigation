{
 "cells": [
  {
   "cell_type": "code",
   "execution_count": 5,
   "metadata": {},
   "outputs": [],
   "source": [
    "import pandas as pd\n",
    "import matplotlib.pyplot as plt\n",
    "import numpy as np\n",
    "import math\n",
    "from sympy import *"
   ]
  },
  {
   "cell_type": "code",
   "execution_count": 2,
   "metadata": {},
   "outputs": [],
   "source": [
    "a = (1.315, -1.79)\n",
    "b = (1.1, -0.33)"
   ]
  },
  {
   "cell_type": "code",
   "execution_count": 3,
   "metadata": {},
   "outputs": [
    {
     "data": {
      "text/plain": [
       "1.475745574277626"
      ]
     },
     "execution_count": 3,
     "metadata": {},
     "output_type": "execute_result"
    }
   ],
   "source": [
    "#distanciaS\n",
    "math.dist(a,b)"
   ]
  },
  {
   "cell_type": "code",
   "execution_count": 7,
   "metadata": {},
   "outputs": [],
   "source": [
    "x, y = symbols(\"x y\")\n",
    "\n",
    "rssi0 = -41.70 #indoors model 40 test 30\n",
    "d0 = 1 #ant 0.5\n",
    "\n",
    "n = 1.54 #ant 2 later 4 \n",
    "wl = 2\n",
    "\n",
    "#valores test\n",
    "rssi1 = -46.82310469314079\n",
    "rssi2 = -53.52881355932203\n",
    "rssi3 = -52.51111111111111\n",
    "\n",
    "x1 = -4.648\n",
    "x2 = 4.67\n",
    "x3 = 3.855\n",
    "y1 = -3.45\n",
    "y2 = 3.42\n",
    "y3 = -3.249"
   ]
  },
  {
   "cell_type": "code",
   "execution_count": 8,
   "metadata": {},
   "outputs": [],
   "source": [
    "#posicionamiento\n",
    "rssiT1 = (rssi0-rssi1+wl)/(10*n) \n",
    "d1 = 10**(rssiT1)*d0 \n",
    "rssiT2 = (rssi0-rssi2+wl)/(10*n)\n",
    "d2 = 10**(rssiT2)*d0\n",
    "rssiT3 = (rssi0-rssi3+wl)/(10*n)\n",
    "d3 = 10**(rssiT3)*d0\n",
    "\n",
    "f1 = Eq((((x-x1)**2) + ((y-y1)**2)) , (d1**2))\n",
    "f2 = Eq((((x-x2)**2) + ((y-y2)**2)) , (d2**2))\n",
    "f3 = Eq((((x-x3)**2) + ((y-y3)**2)) , (d3**2))\n"
   ]
  },
  {
   "cell_type": "code",
   "execution_count": 10,
   "metadata": {},
   "outputs": [
    {
     "name": "stdout",
     "output_type": "stream",
     "text": [
      "[(-1.86948653704519 - 1.11039726736294*I, -1.40145015126642 + 1.50606721066782*I), (-1.86948653704519 + 1.11039726736294*I, -1.40145015126642 - 1.50606721066782*I)]\n",
      "[(-2.66052916986096, -1.33684295153008), (-2.56290023943224, -5.46688670991505), (1.19089635854342e+16 - 281512605042010.0*I, -281512605042014.0 - 1.19089635854342e+16*I), (1.19089635854342e+16 + 281512605042010.0*I, -281512605042014.0 + 1.19089635854342e+16*I)]\n",
      "[(-2.28269403523144, -0.344318111874114), (10.5115630808958, -1.90786880157927), (-1.14145658263304e+15 - 9.34033613445378e+15*I, 9.34033613445378e+15 - 1.14145658263305e+15*I), (-1.14145658263304e+15 + 9.34033613445378e+15*I, 9.34033613445378e+15 + 1.14145658263305e+15*I)]\n"
     ]
    }
   ],
   "source": [
    "print(solve((f1,f2),(x,y)))\n",
    "print(solve((f1,f3),(x,y)))\n",
    "print(solve((f2,f3),(x,y)))"
   ]
  }
 ],
 "metadata": {
  "kernelspec": {
   "display_name": "Python 3",
   "language": "python",
   "name": "python3"
  },
  "language_info": {
   "codemirror_mode": {
    "name": "ipython",
    "version": 3
   },
   "file_extension": ".py",
   "mimetype": "text/x-python",
   "name": "python",
   "nbconvert_exporter": "python",
   "pygments_lexer": "ipython3",
   "version": "3.11.0"
  },
  "orig_nbformat": 4,
  "vscode": {
   "interpreter": {
    "hash": "c261aea317cc0286b3b3261fbba9abdec21eaa57589985bb7a274bf54d6cc0a7"
   }
  }
 },
 "nbformat": 4,
 "nbformat_minor": 2
}
